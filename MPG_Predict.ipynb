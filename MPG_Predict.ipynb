{
  "nbformat": 4,
  "nbformat_minor": 0,
  "metadata": {
    "colab": {
      "name": "MPG_Predict.ipynb",
      "provenance": [],
      "collapsed_sections": [],
      "authorship_tag": "ABX9TyOWUHB8qRp7RLX4swAGd6Aa",
      "include_colab_link": true
    },
    "kernelspec": {
      "name": "python3",
      "display_name": "Python 3"
    },
    "accelerator": "GPU"
  },
  "cells": [
    {
      "cell_type": "markdown",
      "metadata": {
        "id": "view-in-github",
        "colab_type": "text"
      },
      "source": [
        "<a href=\"https://colab.research.google.com/github/batchuraja484/ML_Regression_Problem_MPG_Predict/blob/main/MPG_Predict.ipynb\" target=\"_parent\"><img src=\"https://colab.research.google.com/assets/colab-badge.svg\" alt=\"Open In Colab\"/></a>"
      ]
    },
    {
      "cell_type": "code",
      "metadata": {
        "id": "BICPXLbNUEIW"
      },
      "source": [
        "#importing the required Libraires\n",
        "import pandas as pd\n",
        "import numpy as np\n",
        "import matplotlib.pyplot as plt\n",
        "import seaborn as sns"
      ],
      "execution_count": 1,
      "outputs": []
    },
    {
      "cell_type": "code",
      "metadata": {
        "id": "aj4lHE6gbh5t"
      },
      "source": [
        "#defining the columns\n",
        "cols = ['MPG','Cylinders','Displacement','Horsepower','Weight',\n",
        "                'Acceleration', 'Model Year', 'Origin']"
      ],
      "execution_count": 2,
      "outputs": []
    },
    {
      "cell_type": "code",
      "metadata": {
        "id": "fAPof6tWVqXw"
      },
      "source": [
        "df1=pd.read_csv(\"http://archive.ics.uci.edu/ml/machine-learning-databases/auto-mpg/auto-mpg.data\",names=cols,skipinitialspace=True,comment = '\\t',sep= \" \",na_values = \"?\")"
      ],
      "execution_count": 3,
      "outputs": []
    },
    {
      "cell_type": "code",
      "metadata": {
        "id": "oKyCDBLNSETU"
      },
      "source": [
        "data=pd.read_csv(\"http://archive.ics.uci.edu/ml/machine-learning-databases/auto-mpg/auto-mpg.data\",names=cols,skipinitialspace=True,comment = '\\t',sep= \" \",na_values = \"?\")"
      ],
      "execution_count": 4,
      "outputs": []
    },
    {
      "cell_type": "code",
      "metadata": {
        "id": "2kuwM7Fda2p-",
        "outputId": "09fba3c0-7e8a-4d6b-c132-8619bbe85b8a",
        "colab": {
          "base_uri": "https://localhost:8080/"
        }
      },
      "source": [
        "df1.info()"
      ],
      "execution_count": 5,
      "outputs": [
        {
          "output_type": "stream",
          "text": [
            "<class 'pandas.core.frame.DataFrame'>\n",
            "RangeIndex: 398 entries, 0 to 397\n",
            "Data columns (total 8 columns):\n",
            " #   Column        Non-Null Count  Dtype  \n",
            "---  ------        --------------  -----  \n",
            " 0   MPG           398 non-null    float64\n",
            " 1   Cylinders     398 non-null    int64  \n",
            " 2   Displacement  398 non-null    float64\n",
            " 3   Horsepower    392 non-null    float64\n",
            " 4   Weight        398 non-null    float64\n",
            " 5   Acceleration  398 non-null    float64\n",
            " 6   Model Year    398 non-null    int64  \n",
            " 7   Origin        398 non-null    int64  \n",
            "dtypes: float64(5), int64(3)\n",
            "memory usage: 25.0 KB\n"
          ],
          "name": "stdout"
        }
      ]
    },
    {
      "cell_type": "code",
      "metadata": {
        "id": "sEiX07fIwtS9",
        "outputId": "43c54762-db28-4011-c706-c26bb5273c15",
        "colab": {
          "base_uri": "https://localhost:8080/"
        }
      },
      "source": [
        "df1.isnull().sum()"
      ],
      "execution_count": 6,
      "outputs": [
        {
          "output_type": "execute_result",
          "data": {
            "text/plain": [
              "MPG             0\n",
              "Cylinders       0\n",
              "Displacement    0\n",
              "Horsepower      6\n",
              "Weight          0\n",
              "Acceleration    0\n",
              "Model Year      0\n",
              "Origin          0\n",
              "dtype: int64"
            ]
          },
          "metadata": {
            "tags": []
          },
          "execution_count": 6
        }
      ]
    },
    {
      "cell_type": "code",
      "metadata": {
        "id": "2aiMqyXfyDY2",
        "outputId": "20ab0a0f-dced-4cc7-d70c-784457150149",
        "colab": {
          "base_uri": "https://localhost:8080/",
          "height": 297
        }
      },
      "source": [
        "sns.boxplot(x=df1['Horsepower'])"
      ],
      "execution_count": 7,
      "outputs": [
        {
          "output_type": "execute_result",
          "data": {
            "text/plain": [
              "<matplotlib.axes._subplots.AxesSubplot at 0x7f4a9f0959e8>"
            ]
          },
          "metadata": {
            "tags": []
          },
          "execution_count": 7
        },
        {
          "output_type": "display_data",
          "data": {
            "image/png": "[encoded data removed]",
            "text/plain": [
              "<Figure size 432x288 with 1 Axes>"
            ]
          },
          "metadata": {
            "tags": [],
            "needs_background": "light"
          }
        }
      ]
    },
    {
      "cell_type": "code",
      "metadata": {
        "id": "QVaxuSCkyU0H"
      },
      "source": [
        "hpmedian=df1['Horsepower'].median()"
      ],
      "execution_count": 8,
      "outputs": []
    },
    {
      "cell_type": "code",
      "metadata": {
        "id": "JJgmNI7ByeZ7"
      },
      "source": [
        "df1['Horsepower']=df1['Horsepower'].fillna(hpmedian)"
      ],
      "execution_count": 9,
      "outputs": []
    },
    {
      "cell_type": "code",
      "metadata": {
        "id": "2gfW67U32-JA",
        "outputId": "d8ae941a-4194-49c3-8e01-27a3a182cebe",
        "colab": {
          "base_uri": "https://localhost:8080/",
          "height": 297
        }
      },
      "source": [
        "sns.boxplot(x=df1['Horsepower'])"
      ],
      "execution_count": 10,
      "outputs": [
        {
          "output_type": "execute_result",
          "data": {
            "text/plain": [
              "<matplotlib.axes._subplots.AxesSubplot at 0x7f4a9eb7c8d0>"
            ]
          },
          "metadata": {
            "tags": []
          },
          "execution_count": 10
        },
        {
          "output_type": "display_data",
          "data": {
            "image/png": "[encoded data removed]",
            "text/plain": [
              "<Figure size 432x288 with 1 Axes>"
            ]
          },
          "metadata": {
            "tags": [],
            "needs_background": "light"
          }
        }
      ]
    },
    {
      "cell_type": "code",
      "metadata": {
        "id": "rzjodhZn3XoN",
        "outputId": "0fb0dcd0-bcc1-40ec-bf4b-81905b3cc7c3",
        "colab": {
          "base_uri": "https://localhost:8080/"
        }
      },
      "source": [
        "#Category Distribution\n",
        "df1[\"Cylinders\"].value_counts()"
      ],
      "execution_count": 11,
      "outputs": [
        {
          "output_type": "execute_result",
          "data": {
            "text/plain": [
              "4    204\n",
              "8    103\n",
              "6     84\n",
              "3      4\n",
              "5      3\n",
              "Name: Cylinders, dtype: int64"
            ]
          },
          "metadata": {
            "tags": []
          },
          "execution_count": 11
        }
      ]
    },
    {
      "cell_type": "code",
      "metadata": {
        "id": "f2om4sI64iSI",
        "outputId": "6e31d944-dbfe-4685-d273-ba4d9de1b4a1",
        "colab": {
          "base_uri": "https://localhost:8080/",
          "height": 279
        }
      },
      "source": [
        "df1[\"Cylinders\"].value_counts().plot.bar()"
      ],
      "execution_count": 12,
      "outputs": [
        {
          "output_type": "execute_result",
          "data": {
            "text/plain": [
              "<matplotlib.axes._subplots.AxesSubplot at 0x7f4a9e6832e8>"
            ]
          },
          "metadata": {
            "tags": []
          },
          "execution_count": 12
        },
        {
          "output_type": "display_data",
          "data": {
            "image/png": "[encoded data removed]",
            "text/plain": [
              "<Figure size 432x288 with 1 Axes>"
            ]
          },
          "metadata": {
            "tags": [],
            "needs_background": "light"
          }
        }
      ]
    },
    {
      "cell_type": "code",
      "metadata": {
        "id": "RXfqfGBc3yVv",
        "outputId": "5f094082-5e41-4c58-b50c-786b7975fb39",
        "colab": {
          "base_uri": "https://localhost:8080/",
          "height": 279
        }
      },
      "source": [
        "df1[\"Origin\"].value_counts().plot.bar()"
      ],
      "execution_count": 13,
      "outputs": [
        {
          "output_type": "execute_result",
          "data": {
            "text/plain": [
              "<matplotlib.axes._subplots.AxesSubplot at 0x7f4a9e5fe710>"
            ]
          },
          "metadata": {
            "tags": []
          },
          "execution_count": 13
        },
        {
          "output_type": "display_data",
          "data": {
            "image/png": "[encoded data removed]",
            "text/plain": [
              "<Figure size 432x288 with 1 Axes>"
            ]
          },
          "metadata": {
            "tags": [],
            "needs_background": "light"
          }
        }
      ]
    },
    {
      "cell_type": "code",
      "metadata": {
        "id": "IEo1FK6-4sH9",
        "outputId": "066a0668-8e06-4fd1-dde8-7819a4ffeaa7",
        "colab": {
          "base_uri": "https://localhost:8080/"
        }
      },
      "source": [
        "df1[\"Origin\"].value_counts()/len(df1)\n",
        "df1[\"Cylinders\"].value_counts()/len(df1)"
      ],
      "execution_count": 14,
      "outputs": [
        {
          "output_type": "execute_result",
          "data": {
            "text/plain": [
              "4    0.512563\n",
              "8    0.258794\n",
              "6    0.211055\n",
              "3    0.010050\n",
              "5    0.007538\n",
              "Name: Cylinders, dtype: float64"
            ]
          },
          "metadata": {
            "tags": []
          },
          "execution_count": 14
        }
      ]
    },
    {
      "cell_type": "code",
      "metadata": {
        "id": "wyNrdrT4d9Z8",
        "outputId": "6b49a109-11eb-4508-f127-4ec5b138cf4f",
        "colab": {
          "base_uri": "https://localhost:8080/"
        }
      },
      "source": [
        "df1.columns"
      ],
      "execution_count": 15,
      "outputs": [
        {
          "output_type": "execute_result",
          "data": {
            "text/plain": [
              "Index(['MPG', 'Cylinders', 'Displacement', 'Horsepower', 'Weight',\n",
              "       'Acceleration', 'Model Year', 'Origin'],\n",
              "      dtype='object')"
            ]
          },
          "metadata": {
            "tags": []
          },
          "execution_count": 15
        }
      ]
    },
    {
      "cell_type": "code",
      "metadata": {
        "id": "mWHrS18Ud5k_",
        "outputId": "15fce1b6-2a93-4731-b7cd-4127c524dcd8",
        "colab": {
          "base_uri": "https://localhost:8080/",
          "height": 921
        }
      },
      "source": [
        "sns.pairplot(df1[['MPG','Cylinders','Displacement', 'Horsepower', 'Weight']],diag_kind='kde')"
      ],
      "execution_count": 16,
      "outputs": [
        {
          "output_type": "execute_result",
          "data": {
            "text/plain": [
              "<seaborn.axisgrid.PairGrid at 0x7f4a9e55dcf8>"
            ]
          },
          "metadata": {
            "tags": []
          },
          "execution_count": 16
        },
        {
          "output_type": "display_data",
          "data": {
            "image/png": "[encoded data removed]",
            "text/plain": [
              "<Figure size 900x900 with 30 Axes>"
            ]
          },
          "metadata": {
            "tags": [],
            "needs_background": "light"
          }
        }
      ]
    },
    {
      "cell_type": "markdown",
      "metadata": {
        "id": "9PMwS-_tpGpY"
      },
      "source": [
        "# Approach 1 using Train Test Split"
      ]
    },
    {
      "cell_type": "code",
      "metadata": {
        "id": "pP_vfYXNpEqT"
      },
      "source": [
        "from sklearn.model_selection import train_test_split"
      ],
      "execution_count": 17,
      "outputs": []
    },
    {
      "cell_type": "code",
      "metadata": {
        "id": "TCN_Bp_FpUAa"
      },
      "source": [
        "X=df1.drop(columns=['MPG'],axis=1)\n",
        "Y=df1['MPG']"
      ],
      "execution_count": 18,
      "outputs": []
    },
    {
      "cell_type": "code",
      "metadata": {
        "id": "Ey12fQkRpTxA",
        "outputId": "e271b085-4809-4b14-a91f-6cce7bb4a89e",
        "colab": {
          "base_uri": "https://localhost:8080/"
        }
      },
      "source": [
        "X.shape,Y.shape"
      ],
      "execution_count": 19,
      "outputs": [
        {
          "output_type": "execute_result",
          "data": {
            "text/plain": [
              "((398, 7), (398,))"
            ]
          },
          "metadata": {
            "tags": []
          },
          "execution_count": 19
        }
      ]
    },
    {
      "cell_type": "code",
      "metadata": {
        "id": "SBKf4khMpvGr"
      },
      "source": [
        "X_train,X_test,Y_train,Y_test=train_test_split(X,Y,test_size=0.3,random_state=42)"
      ],
      "execution_count": 20,
      "outputs": []
    },
    {
      "cell_type": "code",
      "metadata": {
        "id": "oCFZSnWLqByj",
        "outputId": "c630c5cc-28e4-4914-98cf-e22848c56b3a",
        "colab": {
          "base_uri": "https://localhost:8080/"
        }
      },
      "source": [
        "X_train.shape,X_test.shape"
      ],
      "execution_count": 21,
      "outputs": [
        {
          "output_type": "execute_result",
          "data": {
            "text/plain": [
              "((278, 7), (120, 7))"
            ]
          },
          "metadata": {
            "tags": []
          },
          "execution_count": 21
        }
      ]
    },
    {
      "cell_type": "code",
      "metadata": {
        "id": "zokSTqqQqOWy"
      },
      "source": [
        "from sklearn.linear_model import LinearRegression"
      ],
      "execution_count": 22,
      "outputs": []
    },
    {
      "cell_type": "code",
      "metadata": {
        "id": "e6eLzwuDqbrv"
      },
      "source": [
        "lr_mdl=LinearRegression(normalize=True)"
      ],
      "execution_count": 23,
      "outputs": []
    },
    {
      "cell_type": "code",
      "metadata": {
        "id": "oE7fNg-4qtPg",
        "outputId": "179e4ea6-6dcd-4616-e26d-ea800a4e4ba2",
        "colab": {
          "base_uri": "https://localhost:8080/"
        }
      },
      "source": [
        "lr_mdl.fit(X_train,Y_train)"
      ],
      "execution_count": 24,
      "outputs": [
        {
          "output_type": "execute_result",
          "data": {
            "text/plain": [
              "LinearRegression(copy_X=True, fit_intercept=True, n_jobs=None, normalize=True)"
            ]
          },
          "metadata": {
            "tags": []
          },
          "execution_count": 24
        }
      ]
    },
    {
      "cell_type": "code",
      "metadata": {
        "id": "BM2RyWVgqzni"
      },
      "source": [
        "lr_mdl_predict=lr_mdl.predict(X_test)"
      ],
      "execution_count": 25,
      "outputs": []
    },
    {
      "cell_type": "code",
      "metadata": {
        "id": "gz1F4QBvq9Do"
      },
      "source": [
        "from sklearn.metrics import mean_squared_error,mean_absolute_error,accuracy_score"
      ],
      "execution_count": 26,
      "outputs": []
    },
    {
      "cell_type": "code",
      "metadata": {
        "id": "YiRnwwNmqtn9"
      },
      "source": [
        "from sklearn.metrics import r2_score"
      ],
      "execution_count": 27,
      "outputs": []
    },
    {
      "cell_type": "code",
      "metadata": {
        "id": "oS051fWNrKgS",
        "outputId": "fd62f340-d3a6-467b-8a59-f43f43c66aed",
        "colab": {
          "base_uri": "https://localhost:8080/"
        }
      },
      "source": [
        "r2_score(Y_test,lr_mdl_predict)"
      ],
      "execution_count": 28,
      "outputs": [
        {
          "output_type": "execute_result",
          "data": {
            "text/plain": [
              "0.8384465289489116"
            ]
          },
          "metadata": {
            "tags": []
          },
          "execution_count": 28
        }
      ]
    },
    {
      "cell_type": "code",
      "metadata": {
        "id": "1QYTlr4IrSmh",
        "outputId": "957725b2-77fd-4e73-aff6-4d1d2271011c",
        "colab": {
          "base_uri": "https://localhost:8080/"
        }
      },
      "source": [
        "y1_true=[5,6,7]\n",
        "y1_pred=[7,9,12]\n",
        "r2_score(y1_true,y1_pred)"
      ],
      "execution_count": 29,
      "outputs": [
        {
          "output_type": "execute_result",
          "data": {
            "text/plain": [
              "-18.0"
            ]
          },
          "metadata": {
            "tags": []
          },
          "execution_count": 29
        }
      ]
    },
    {
      "cell_type": "code",
      "metadata": {
        "id": "qe9Hng0krJbQ",
        "outputId": "f1ae8fea-fa5e-4c66-9c13-c0ad30c1363f",
        "colab": {
          "base_uri": "https://localhost:8080/"
        }
      },
      "source": [
        "print('MAE is',mean_absolute_error(Y_test,lr_mdl_predict))"
      ],
      "execution_count": 30,
      "outputs": [
        {
          "output_type": "stream",
          "text": [
            "MAE is 2.369392146291413\n"
          ],
          "name": "stdout"
        }
      ]
    },
    {
      "cell_type": "code",
      "metadata": {
        "id": "senMS_lHeSJs",
        "outputId": "cf25951d-7ed1-4703-c754-de7654e97785",
        "colab": {
          "base_uri": "https://localhost:8080/"
        }
      },
      "source": [
        "np.sqrt(38/3)"
      ],
      "execution_count": 31,
      "outputs": [
        {
          "output_type": "execute_result",
          "data": {
            "text/plain": [
              "3.559026084010437"
            ]
          },
          "metadata": {
            "tags": []
          },
          "execution_count": 31
        }
      ]
    },
    {
      "cell_type": "code",
      "metadata": {
        "id": "DCt8lDwnnsmV",
        "outputId": "f24a5ecf-0ea9-4033-b66d-a7c7b11d0f2e",
        "colab": {
          "base_uri": "https://localhost:8080/"
        }
      },
      "source": [
        "((2/5)+(3/6)+(5/7))*100/3"
      ],
      "execution_count": 32,
      "outputs": [
        {
          "output_type": "execute_result",
          "data": {
            "text/plain": [
              "53.80952380952382"
            ]
          },
          "metadata": {
            "tags": []
          },
          "execution_count": 32
        }
      ]
    },
    {
      "cell_type": "code",
      "metadata": {
        "id": "wP7ii-pIrYrv",
        "outputId": "113d734c-eacc-47dd-c680-abbb96c48091",
        "colab": {
          "base_uri": "https://localhost:8080/"
        }
      },
      "source": [
        "mean_squared_error(Y_test,lr_mdl_predict)"
      ],
      "execution_count": 33,
      "outputs": [
        {
          "output_type": "execute_result",
          "data": {
            "text/plain": [
              "9.271774044606088"
            ]
          },
          "metadata": {
            "tags": []
          },
          "execution_count": 33
        }
      ]
    },
    {
      "cell_type": "code",
      "metadata": {
        "id": "tp8fjTQvscdw",
        "outputId": "fd6381c6-b0a4-41f0-c5e6-d09ca52be1f9",
        "colab": {
          "base_uri": "https://localhost:8080/"
        }
      },
      "source": [
        "np.sqrt(mean_squared_error(Y_test,lr_mdl_predict))"
      ],
      "execution_count": 34,
      "outputs": [
        {
          "output_type": "execute_result",
          "data": {
            "text/plain": [
              "3.044958791938914"
            ]
          },
          "metadata": {
            "tags": []
          },
          "execution_count": 34
        }
      ]
    },
    {
      "cell_type": "code",
      "metadata": {
        "id": "yCcgTyJAtz1N",
        "outputId": "47854646-1aa9-440a-fb52-4e484a8b09b7",
        "colab": {
          "base_uri": "https://localhost:8080/"
        }
      },
      "source": [
        "print(X_train['Cylinders'].value_counts())\n",
        "print(X_test['Cylinders'].value_counts())"
      ],
      "execution_count": 35,
      "outputs": [
        {
          "output_type": "stream",
          "text": [
            "4    138\n",
            "8     70\n",
            "6     64\n",
            "5      3\n",
            "3      3\n",
            "Name: Cylinders, dtype: int64\n",
            "4    66\n",
            "8    33\n",
            "6    20\n",
            "3     1\n",
            "Name: Cylinders, dtype: int64\n"
          ],
          "name": "stdout"
        }
      ]
    },
    {
      "cell_type": "code",
      "metadata": {
        "id": "xFkqK4rmuW92",
        "outputId": "2610c35e-b677-4dbf-f583-c381f5adc1ec",
        "colab": {
          "base_uri": "https://localhost:8080/"
        }
      },
      "source": [
        "print(X_train['Origin'].value_counts())\n",
        "print(X_test['Origin'].value_counts())"
      ],
      "execution_count": 36,
      "outputs": [
        {
          "output_type": "stream",
          "text": [
            "1    176\n",
            "3     55\n",
            "2     47\n",
            "Name: Origin, dtype: int64\n",
            "1    73\n",
            "3    24\n",
            "2    23\n",
            "Name: Origin, dtype: int64\n"
          ],
          "name": "stdout"
        }
      ]
    },
    {
      "cell_type": "code",
      "metadata": {
        "id": "AOg4UiLazh26"
      },
      "source": [
        "def regmdl_accuracies(ytrue,ypred):\n",
        "  print(\"MAE Value is\",mean_absolute_error(ytrue,ypred))\n",
        "  print(\"MSE Value is\",mean_squared_error(ytrue,ypred))\n",
        "  print(\"RMSE Value is\",np.sqrt(mean_squared_error(ytrue,ypred)))\n",
        "  print(\"R2 Value is\",r2_score(ytrue,ypred))\n"
      ],
      "execution_count": 37,
      "outputs": []
    },
    {
      "cell_type": "code",
      "metadata": {
        "id": "iekJHPTB1_ZZ",
        "outputId": "122775ea-4e48-4656-f3bb-a80b4e24d6dc",
        "colab": {
          "base_uri": "https://localhost:8080/"
        }
      },
      "source": [
        "regmdl_accuracies(Y_test,lr_mdl_predict)"
      ],
      "execution_count": 38,
      "outputs": [
        {
          "output_type": "stream",
          "text": [
            "MAE Value is 2.369392146291413\n",
            "MSE Value is 9.271774044606088\n",
            "RMSE Value is 3.044958791938914\n",
            "R2 Value is 0.8384465289489116\n"
          ],
          "name": "stdout"
        }
      ]
    },
    {
      "cell_type": "markdown",
      "metadata": {
        "id": "dhg669vWumsR"
      },
      "source": [
        "# Using Approach 2 StrightFiledShuffleSplit\n"
      ]
    },
    {
      "cell_type": "code",
      "metadata": {
        "id": "nwuBnNPuulwi"
      },
      "source": [
        "from sklearn.model_selection import StratifiedShuffleSplit"
      ],
      "execution_count": 39,
      "outputs": []
    },
    {
      "cell_type": "code",
      "metadata": {
        "id": "FMBga5jwu-wI"
      },
      "source": [
        "sfss=StratifiedShuffleSplit(n_splits=5,test_size=0.3,random_state=42)"
      ],
      "execution_count": 40,
      "outputs": []
    },
    {
      "cell_type": "code",
      "metadata": {
        "id": "JZtjRc51N-ma",
        "outputId": "57d3b992-e11f-4a70-f36f-6e99baa762dc",
        "colab": {
          "base_uri": "https://localhost:8080/"
        }
      },
      "source": [
        "sfss.get_n_splits(X,Y)"
      ],
      "execution_count": 41,
      "outputs": [
        {
          "output_type": "execute_result",
          "data": {
            "text/plain": [
              "5"
            ]
          },
          "metadata": {
            "tags": []
          },
          "execution_count": 41
        }
      ]
    },
    {
      "cell_type": "code",
      "metadata": {
        "id": "XqmgkaJDQkb-",
        "outputId": "26c2e112-1ccf-457b-905d-76ed6fc6805f",
        "colab": {
          "base_uri": "https://localhost:8080/"
        }
      },
      "source": [
        "df1['Cylinders'].value_counts()"
      ],
      "execution_count": 42,
      "outputs": [
        {
          "output_type": "execute_result",
          "data": {
            "text/plain": [
              "4    204\n",
              "8    103\n",
              "6     84\n",
              "3      4\n",
              "5      3\n",
              "Name: Cylinders, dtype: int64"
            ]
          },
          "metadata": {
            "tags": []
          },
          "execution_count": 42
        }
      ]
    },
    {
      "cell_type": "code",
      "metadata": {
        "id": "F6jpUXr8RMpL",
        "outputId": "f81fcd70-009d-4d89-f82a-5d1fe7b6e41e",
        "colab": {
          "base_uri": "https://localhost:8080/",
          "height": 141
        }
      },
      "source": [
        "df1[df1['Cylinders']==5]"
      ],
      "execution_count": 43,
      "outputs": [
        {
          "output_type": "execute_result",
          "data": {
            "text/html": [
              "<div>\n",
              "<style scoped>\n",
              "    .dataframe tbody tr th:only-of-type {\n",
              "        vertical-align: middle;\n",
              "    }\n",
              "\n",
              "    .dataframe tbody tr th {\n",
              "        vertical-align: top;\n",
              "    }\n",
              "\n",
              "    .dataframe thead th {\n",
              "        text-align: right;\n",
              "    }\n",
              "</style>\n",
              "<table border=\"1\" class=\"dataframe\">\n",
              "  <thead>\n",
              "    <tr style=\"text-align: right;\">\n",
              "      <th></th>\n",
              "      <th>MPG</th>\n",
              "      <th>Cylinders</th>\n",
              "      <th>Displacement</th>\n",
              "      <th>Horsepower</th>\n",
              "      <th>Weight</th>\n",
              "      <th>Acceleration</th>\n",
              "      <th>Model Year</th>\n",
              "      <th>Origin</th>\n",
              "    </tr>\n",
              "  </thead>\n",
              "  <tbody>\n",
              "    <tr>\n",
              "      <th>274</th>\n",
              "      <td>20.3</td>\n",
              "      <td>5</td>\n",
              "      <td>131.0</td>\n",
              "      <td>103.0</td>\n",
              "      <td>2830.0</td>\n",
              "      <td>15.9</td>\n",
              "      <td>78</td>\n",
              "      <td>2</td>\n",
              "    </tr>\n",
              "    <tr>\n",
              "      <th>297</th>\n",
              "      <td>25.4</td>\n",
              "      <td>5</td>\n",
              "      <td>183.0</td>\n",
              "      <td>77.0</td>\n",
              "      <td>3530.0</td>\n",
              "      <td>20.1</td>\n",
              "      <td>79</td>\n",
              "      <td>2</td>\n",
              "    </tr>\n",
              "    <tr>\n",
              "      <th>327</th>\n",
              "      <td>36.4</td>\n",
              "      <td>5</td>\n",
              "      <td>121.0</td>\n",
              "      <td>67.0</td>\n",
              "      <td>2950.0</td>\n",
              "      <td>19.9</td>\n",
              "      <td>80</td>\n",
              "      <td>2</td>\n",
              "    </tr>\n",
              "  </tbody>\n",
              "</table>\n",
              "</div>"
            ],
            "text/plain": [
              "      MPG  Cylinders  Displacement  ...  Acceleration  Model Year  Origin\n",
              "274  20.3          5         131.0  ...          15.9          78       2\n",
              "297  25.4          5         183.0  ...          20.1          79       2\n",
              "327  36.4          5         121.0  ...          19.9          80       2\n",
              "\n",
              "[3 rows x 8 columns]"
            ]
          },
          "metadata": {
            "tags": []
          },
          "execution_count": 43
        }
      ]
    },
    {
      "cell_type": "code",
      "metadata": {
        "id": "s4FIK8xnONq3",
        "outputId": "6ccc3cf1-d6ae-4937-c0a1-11d3d9e67517",
        "colab": {
          "base_uri": "https://localhost:8080/"
        }
      },
      "source": [
        "for train_index,test_index in sfss.split(df1,df1['Cylinders']):\n",
        "  print(\"Train Index is :\", df1.iloc[train_index]['Cylinders'].value_counts()/len(df1.iloc[train_index]))\n",
        "  print(\"Test Index is :\",df1.iloc[test_index]['Cylinders'].value_counts()/len(df1.iloc[test_index]))"
      ],
      "execution_count": 44,
      "outputs": [
        {
          "output_type": "stream",
          "text": [
            "Train Index is : 4    0.510791\n",
            "8    0.258993\n",
            "6    0.212230\n",
            "3    0.010791\n",
            "5    0.007194\n",
            "Name: Cylinders, dtype: float64\n",
            "Test Index is : 4    0.516667\n",
            "8    0.258333\n",
            "6    0.208333\n",
            "5    0.008333\n",
            "3    0.008333\n",
            "Name: Cylinders, dtype: float64\n",
            "Train Index is : 4    0.510791\n",
            "8    0.258993\n",
            "6    0.212230\n",
            "3    0.010791\n",
            "5    0.007194\n",
            "Name: Cylinders, dtype: float64\n",
            "Test Index is : 4    0.516667\n",
            "8    0.258333\n",
            "6    0.208333\n",
            "5    0.008333\n",
            "3    0.008333\n",
            "Name: Cylinders, dtype: float64\n",
            "Train Index is : 4    0.510791\n",
            "8    0.258993\n",
            "6    0.212230\n",
            "3    0.010791\n",
            "5    0.007194\n",
            "Name: Cylinders, dtype: float64\n",
            "Test Index is : 4    0.516667\n",
            "8    0.258333\n",
            "6    0.208333\n",
            "5    0.008333\n",
            "3    0.008333\n",
            "Name: Cylinders, dtype: float64\n",
            "Train Index is : 4    0.510791\n",
            "8    0.258993\n",
            "6    0.212230\n",
            "3    0.010791\n",
            "5    0.007194\n",
            "Name: Cylinders, dtype: float64\n",
            "Test Index is : 4    0.516667\n",
            "8    0.258333\n",
            "6    0.208333\n",
            "5    0.008333\n",
            "3    0.008333\n",
            "Name: Cylinders, dtype: float64\n",
            "Train Index is : 4    0.510791\n",
            "8    0.258993\n",
            "6    0.212230\n",
            "3    0.010791\n",
            "5    0.007194\n",
            "Name: Cylinders, dtype: float64\n",
            "Test Index is : 4    0.516667\n",
            "8    0.258333\n",
            "6    0.208333\n",
            "5    0.008333\n",
            "3    0.008333\n",
            "Name: Cylinders, dtype: float64\n"
          ],
          "name": "stdout"
        }
      ]
    },
    {
      "cell_type": "code",
      "metadata": {
        "id": "sXZkIqfyTmyZ"
      },
      "source": [
        "#Preprocessing the Origin Column\n",
        "def pre_processing_orign(df):\n",
        "  df['Origin']=df['Origin'].map({1:'India',2:'USA',3:'China'})\n",
        "  return df"
      ],
      "execution_count": 45,
      "outputs": []
    },
    {
      "cell_type": "code",
      "metadata": {
        "id": "LU8KuF0lXGjJ"
      },
      "source": [
        "df1=pre_processing_orign(df1)"
      ],
      "execution_count": 46,
      "outputs": []
    },
    {
      "cell_type": "code",
      "metadata": {
        "id": "62M7SVRuXLqU"
      },
      "source": [
        "#df1=pd.get_dummies(df1)"
      ],
      "execution_count": 47,
      "outputs": []
    },
    {
      "cell_type": "code",
      "metadata": {
        "id": "HzRXe2O1Y8JW",
        "outputId": "9676c819-f761-42ed-e0aa-e136ea26303e",
        "colab": {
          "base_uri": "https://localhost:8080/",
          "height": 415
        }
      },
      "source": [
        "df1"
      ],
      "execution_count": 48,
      "outputs": [
        {
          "output_type": "execute_result",
          "data": {
            "text/html": [
              "<div>\n",
              "<style scoped>\n",
              "    .dataframe tbody tr th:only-of-type {\n",
              "        vertical-align: middle;\n",
              "    }\n",
              "\n",
              "    .dataframe tbody tr th {\n",
              "        vertical-align: top;\n",
              "    }\n",
              "\n",
              "    .dataframe thead th {\n",
              "        text-align: right;\n",
              "    }\n",
              "</style>\n",
              "<table border=\"1\" class=\"dataframe\">\n",
              "  <thead>\n",
              "    <tr style=\"text-align: right;\">\n",
              "      <th></th>\n",
              "      <th>MPG</th>\n",
              "      <th>Cylinders</th>\n",
              "      <th>Displacement</th>\n",
              "      <th>Horsepower</th>\n",
              "      <th>Weight</th>\n",
              "      <th>Acceleration</th>\n",
              "      <th>Model Year</th>\n",
              "      <th>Origin</th>\n",
              "    </tr>\n",
              "  </thead>\n",
              "  <tbody>\n",
              "    <tr>\n",
              "      <th>0</th>\n",
              "      <td>18.0</td>\n",
              "      <td>8</td>\n",
              "      <td>307.0</td>\n",
              "      <td>130.0</td>\n",
              "      <td>3504.0</td>\n",
              "      <td>12.0</td>\n",
              "      <td>70</td>\n",
              "      <td>India</td>\n",
              "    </tr>\n",
              "    <tr>\n",
              "      <th>1</th>\n",
              "      <td>15.0</td>\n",
              "      <td>8</td>\n",
              "      <td>350.0</td>\n",
              "      <td>165.0</td>\n",
              "      <td>3693.0</td>\n",
              "      <td>11.5</td>\n",
              "      <td>70</td>\n",
              "      <td>India</td>\n",
              "    </tr>\n",
              "    <tr>\n",
              "      <th>2</th>\n",
              "      <td>18.0</td>\n",
              "      <td>8</td>\n",
              "      <td>318.0</td>\n",
              "      <td>150.0</td>\n",
              "      <td>3436.0</td>\n",
              "      <td>11.0</td>\n",
              "      <td>70</td>\n",
              "      <td>India</td>\n",
              "    </tr>\n",
              "    <tr>\n",
              "      <th>3</th>\n",
              "      <td>16.0</td>\n",
              "      <td>8</td>\n",
              "      <td>304.0</td>\n",
              "      <td>150.0</td>\n",
              "      <td>3433.0</td>\n",
              "      <td>12.0</td>\n",
              "      <td>70</td>\n",
              "      <td>India</td>\n",
              "    </tr>\n",
              "    <tr>\n",
              "      <th>4</th>\n",
              "      <td>17.0</td>\n",
              "      <td>8</td>\n",
              "      <td>302.0</td>\n",
              "      <td>140.0</td>\n",
              "      <td>3449.0</td>\n",
              "      <td>10.5</td>\n",
              "      <td>70</td>\n",
              "      <td>India</td>\n",
              "    </tr>\n",
              "    <tr>\n",
              "      <th>...</th>\n",
              "      <td>...</td>\n",
              "      <td>...</td>\n",
              "      <td>...</td>\n",
              "      <td>...</td>\n",
              "      <td>...</td>\n",
              "      <td>...</td>\n",
              "      <td>...</td>\n",
              "      <td>...</td>\n",
              "    </tr>\n",
              "    <tr>\n",
              "      <th>393</th>\n",
              "      <td>27.0</td>\n",
              "      <td>4</td>\n",
              "      <td>140.0</td>\n",
              "      <td>86.0</td>\n",
              "      <td>2790.0</td>\n",
              "      <td>15.6</td>\n",
              "      <td>82</td>\n",
              "      <td>India</td>\n",
              "    </tr>\n",
              "    <tr>\n",
              "      <th>394</th>\n",
              "      <td>44.0</td>\n",
              "      <td>4</td>\n",
              "      <td>97.0</td>\n",
              "      <td>52.0</td>\n",
              "      <td>2130.0</td>\n",
              "      <td>24.6</td>\n",
              "      <td>82</td>\n",
              "      <td>USA</td>\n",
              "    </tr>\n",
              "    <tr>\n",
              "      <th>395</th>\n",
              "      <td>32.0</td>\n",
              "      <td>4</td>\n",
              "      <td>135.0</td>\n",
              "      <td>84.0</td>\n",
              "      <td>2295.0</td>\n",
              "      <td>11.6</td>\n",
              "      <td>82</td>\n",
              "      <td>India</td>\n",
              "    </tr>\n",
              "    <tr>\n",
              "      <th>396</th>\n",
              "      <td>28.0</td>\n",
              "      <td>4</td>\n",
              "      <td>120.0</td>\n",
              "      <td>79.0</td>\n",
              "      <td>2625.0</td>\n",
              "      <td>18.6</td>\n",
              "      <td>82</td>\n",
              "      <td>India</td>\n",
              "    </tr>\n",
              "    <tr>\n",
              "      <th>397</th>\n",
              "      <td>31.0</td>\n",
              "      <td>4</td>\n",
              "      <td>119.0</td>\n",
              "      <td>82.0</td>\n",
              "      <td>2720.0</td>\n",
              "      <td>19.4</td>\n",
              "      <td>82</td>\n",
              "      <td>India</td>\n",
              "    </tr>\n",
              "  </tbody>\n",
              "</table>\n",
              "<p>398 rows × 8 columns</p>\n",
              "</div>"
            ],
            "text/plain": [
              "      MPG  Cylinders  Displacement  ...  Acceleration  Model Year  Origin\n",
              "0    18.0          8         307.0  ...          12.0          70   India\n",
              "1    15.0          8         350.0  ...          11.5          70   India\n",
              "2    18.0          8         318.0  ...          11.0          70   India\n",
              "3    16.0          8         304.0  ...          12.0          70   India\n",
              "4    17.0          8         302.0  ...          10.5          70   India\n",
              "..    ...        ...           ...  ...           ...         ...     ...\n",
              "393  27.0          4         140.0  ...          15.6          82   India\n",
              "394  44.0          4          97.0  ...          24.6          82     USA\n",
              "395  32.0          4         135.0  ...          11.6          82   India\n",
              "396  28.0          4         120.0  ...          18.6          82   India\n",
              "397  31.0          4         119.0  ...          19.4          82   India\n",
              "\n",
              "[398 rows x 8 columns]"
            ]
          },
          "metadata": {
            "tags": []
          },
          "execution_count": 48
        }
      ]
    },
    {
      "cell_type": "code",
      "metadata": {
        "id": "5h63ryKFabkl",
        "outputId": "e3d0730b-274b-4100-9924-70ac5ba9ebb6",
        "colab": {
          "base_uri": "https://localhost:8080/"
        }
      },
      "source": [
        "df1.info()"
      ],
      "execution_count": 49,
      "outputs": [
        {
          "output_type": "stream",
          "text": [
            "<class 'pandas.core.frame.DataFrame'>\n",
            "RangeIndex: 398 entries, 0 to 397\n",
            "Data columns (total 8 columns):\n",
            " #   Column        Non-Null Count  Dtype  \n",
            "---  ------        --------------  -----  \n",
            " 0   MPG           398 non-null    float64\n",
            " 1   Cylinders     398 non-null    int64  \n",
            " 2   Displacement  398 non-null    float64\n",
            " 3   Horsepower    398 non-null    float64\n",
            " 4   Weight        398 non-null    float64\n",
            " 5   Acceleration  398 non-null    float64\n",
            " 6   Model Year    398 non-null    int64  \n",
            " 7   Origin        398 non-null    object \n",
            "dtypes: float64(5), int64(2), object(1)\n",
            "memory usage: 25.0+ KB\n"
          ],
          "name": "stdout"
        }
      ]
    },
    {
      "cell_type": "code",
      "metadata": {
        "id": "9RverVJo8diD"
      },
      "source": [
        "from sklearn.preprocessing import OneHotEncoder"
      ],
      "execution_count": 50,
      "outputs": []
    },
    {
      "cell_type": "code",
      "metadata": {
        "id": "bnYew3qsA-ER",
        "outputId": "ee479de4-4418-4285-d5b6-89314407155a",
        "colab": {
          "base_uri": "https://localhost:8080/",
          "height": 202
        }
      },
      "source": [
        "cat_data=df1[['Origin']]\n",
        "cat_data.head(5)"
      ],
      "execution_count": 51,
      "outputs": [
        {
          "output_type": "execute_result",
          "data": {
            "text/html": [
              "<div>\n",
              "<style scoped>\n",
              "    .dataframe tbody tr th:only-of-type {\n",
              "        vertical-align: middle;\n",
              "    }\n",
              "\n",
              "    .dataframe tbody tr th {\n",
              "        vertical-align: top;\n",
              "    }\n",
              "\n",
              "    .dataframe thead th {\n",
              "        text-align: right;\n",
              "    }\n",
              "</style>\n",
              "<table border=\"1\" class=\"dataframe\">\n",
              "  <thead>\n",
              "    <tr style=\"text-align: right;\">\n",
              "      <th></th>\n",
              "      <th>Origin</th>\n",
              "    </tr>\n",
              "  </thead>\n",
              "  <tbody>\n",
              "    <tr>\n",
              "      <th>0</th>\n",
              "      <td>India</td>\n",
              "    </tr>\n",
              "    <tr>\n",
              "      <th>1</th>\n",
              "      <td>India</td>\n",
              "    </tr>\n",
              "    <tr>\n",
              "      <th>2</th>\n",
              "      <td>India</td>\n",
              "    </tr>\n",
              "    <tr>\n",
              "      <th>3</th>\n",
              "      <td>India</td>\n",
              "    </tr>\n",
              "    <tr>\n",
              "      <th>4</th>\n",
              "      <td>India</td>\n",
              "    </tr>\n",
              "  </tbody>\n",
              "</table>\n",
              "</div>"
            ],
            "text/plain": [
              "  Origin\n",
              "0  India\n",
              "1  India\n",
              "2  India\n",
              "3  India\n",
              "4  India"
            ]
          },
          "metadata": {
            "tags": []
          },
          "execution_count": 51
        }
      ]
    },
    {
      "cell_type": "code",
      "metadata": {
        "id": "sXWJpcjCBJGF"
      },
      "source": [
        "cat_encoder=OneHotEncoder()\n",
        "cat_encode_data=cat_encoder.fit_transform(cat_data).toarray()"
      ],
      "execution_count": 52,
      "outputs": []
    },
    {
      "cell_type": "code",
      "metadata": {
        "id": "7pDDD1IOFBHI"
      },
      "source": [
        "data_hot_encoded=pd.DataFrame(cat_encode_data,index=df1.index,columns=cat_encoder.categories_)"
      ],
      "execution_count": 53,
      "outputs": []
    },
    {
      "cell_type": "code",
      "metadata": {
        "id": "jcuz4XcFGX80",
        "outputId": "5d424c95-83e3-41e4-add4-a0b305b9826b",
        "colab": {
          "base_uri": "https://localhost:8080/",
          "height": 415
        }
      },
      "source": [
        "data_hot_encoded"
      ],
      "execution_count": 54,
      "outputs": [
        {
          "output_type": "execute_result",
          "data": {
            "text/html": [
              "<div>\n",
              "<style scoped>\n",
              "    .dataframe tbody tr th:only-of-type {\n",
              "        vertical-align: middle;\n",
              "    }\n",
              "\n",
              "    .dataframe tbody tr th {\n",
              "        vertical-align: top;\n",
              "    }\n",
              "\n",
              "    .dataframe thead tr th {\n",
              "        text-align: left;\n",
              "    }\n",
              "</style>\n",
              "<table border=\"1\" class=\"dataframe\">\n",
              "  <thead>\n",
              "    <tr>\n",
              "      <th></th>\n",
              "      <th>China</th>\n",
              "      <th>India</th>\n",
              "      <th>USA</th>\n",
              "    </tr>\n",
              "  </thead>\n",
              "  <tbody>\n",
              "    <tr>\n",
              "      <th>0</th>\n",
              "      <td>0.0</td>\n",
              "      <td>1.0</td>\n",
              "      <td>0.0</td>\n",
              "    </tr>\n",
              "    <tr>\n",
              "      <th>1</th>\n",
              "      <td>0.0</td>\n",
              "      <td>1.0</td>\n",
              "      <td>0.0</td>\n",
              "    </tr>\n",
              "    <tr>\n",
              "      <th>2</th>\n",
              "      <td>0.0</td>\n",
              "      <td>1.0</td>\n",
              "      <td>0.0</td>\n",
              "    </tr>\n",
              "    <tr>\n",
              "      <th>3</th>\n",
              "      <td>0.0</td>\n",
              "      <td>1.0</td>\n",
              "      <td>0.0</td>\n",
              "    </tr>\n",
              "    <tr>\n",
              "      <th>4</th>\n",
              "      <td>0.0</td>\n",
              "      <td>1.0</td>\n",
              "      <td>0.0</td>\n",
              "    </tr>\n",
              "    <tr>\n",
              "      <th>...</th>\n",
              "      <td>...</td>\n",
              "      <td>...</td>\n",
              "      <td>...</td>\n",
              "    </tr>\n",
              "    <tr>\n",
              "      <th>393</th>\n",
              "      <td>0.0</td>\n",
              "      <td>1.0</td>\n",
              "      <td>0.0</td>\n",
              "    </tr>\n",
              "    <tr>\n",
              "      <th>394</th>\n",
              "      <td>0.0</td>\n",
              "      <td>0.0</td>\n",
              "      <td>1.0</td>\n",
              "    </tr>\n",
              "    <tr>\n",
              "      <th>395</th>\n",
              "      <td>0.0</td>\n",
              "      <td>1.0</td>\n",
              "      <td>0.0</td>\n",
              "    </tr>\n",
              "    <tr>\n",
              "      <th>396</th>\n",
              "      <td>0.0</td>\n",
              "      <td>1.0</td>\n",
              "      <td>0.0</td>\n",
              "    </tr>\n",
              "    <tr>\n",
              "      <th>397</th>\n",
              "      <td>0.0</td>\n",
              "      <td>1.0</td>\n",
              "      <td>0.0</td>\n",
              "    </tr>\n",
              "  </tbody>\n",
              "</table>\n",
              "<p>398 rows × 3 columns</p>\n",
              "</div>"
            ],
            "text/plain": [
              "    China India  USA\n",
              "0     0.0   1.0  0.0\n",
              "1     0.0   1.0  0.0\n",
              "2     0.0   1.0  0.0\n",
              "3     0.0   1.0  0.0\n",
              "4     0.0   1.0  0.0\n",
              "..    ...   ...  ...\n",
              "393   0.0   1.0  0.0\n",
              "394   0.0   0.0  1.0\n",
              "395   0.0   1.0  0.0\n",
              "396   0.0   1.0  0.0\n",
              "397   0.0   1.0  0.0\n",
              "\n",
              "[398 rows x 3 columns]"
            ]
          },
          "metadata": {
            "tags": []
          },
          "execution_count": 54
        }
      ]
    },
    {
      "cell_type": "code",
      "metadata": {
        "id": "EMvBV34u3YGw",
        "outputId": "91faacdd-bcac-41e7-8189-505389c4c946",
        "colab": {
          "base_uri": "https://localhost:8080/",
          "height": 202
        }
      },
      "source": [
        "df1.head(5)"
      ],
      "execution_count": 55,
      "outputs": [
        {
          "output_type": "execute_result",
          "data": {
            "text/html": [
              "<div>\n",
              "<style scoped>\n",
              "    .dataframe tbody tr th:only-of-type {\n",
              "        vertical-align: middle;\n",
              "    }\n",
              "\n",
              "    .dataframe tbody tr th {\n",
              "        vertical-align: top;\n",
              "    }\n",
              "\n",
              "    .dataframe thead th {\n",
              "        text-align: right;\n",
              "    }\n",
              "</style>\n",
              "<table border=\"1\" class=\"dataframe\">\n",
              "  <thead>\n",
              "    <tr style=\"text-align: right;\">\n",
              "      <th></th>\n",
              "      <th>MPG</th>\n",
              "      <th>Cylinders</th>\n",
              "      <th>Displacement</th>\n",
              "      <th>Horsepower</th>\n",
              "      <th>Weight</th>\n",
              "      <th>Acceleration</th>\n",
              "      <th>Model Year</th>\n",
              "      <th>Origin</th>\n",
              "    </tr>\n",
              "  </thead>\n",
              "  <tbody>\n",
              "    <tr>\n",
              "      <th>0</th>\n",
              "      <td>18.0</td>\n",
              "      <td>8</td>\n",
              "      <td>307.0</td>\n",
              "      <td>130.0</td>\n",
              "      <td>3504.0</td>\n",
              "      <td>12.0</td>\n",
              "      <td>70</td>\n",
              "      <td>India</td>\n",
              "    </tr>\n",
              "    <tr>\n",
              "      <th>1</th>\n",
              "      <td>15.0</td>\n",
              "      <td>8</td>\n",
              "      <td>350.0</td>\n",
              "      <td>165.0</td>\n",
              "      <td>3693.0</td>\n",
              "      <td>11.5</td>\n",
              "      <td>70</td>\n",
              "      <td>India</td>\n",
              "    </tr>\n",
              "    <tr>\n",
              "      <th>2</th>\n",
              "      <td>18.0</td>\n",
              "      <td>8</td>\n",
              "      <td>318.0</td>\n",
              "      <td>150.0</td>\n",
              "      <td>3436.0</td>\n",
              "      <td>11.0</td>\n",
              "      <td>70</td>\n",
              "      <td>India</td>\n",
              "    </tr>\n",
              "    <tr>\n",
              "      <th>3</th>\n",
              "      <td>16.0</td>\n",
              "      <td>8</td>\n",
              "      <td>304.0</td>\n",
              "      <td>150.0</td>\n",
              "      <td>3433.0</td>\n",
              "      <td>12.0</td>\n",
              "      <td>70</td>\n",
              "      <td>India</td>\n",
              "    </tr>\n",
              "    <tr>\n",
              "      <th>4</th>\n",
              "      <td>17.0</td>\n",
              "      <td>8</td>\n",
              "      <td>302.0</td>\n",
              "      <td>140.0</td>\n",
              "      <td>3449.0</td>\n",
              "      <td>10.5</td>\n",
              "      <td>70</td>\n",
              "      <td>India</td>\n",
              "    </tr>\n",
              "  </tbody>\n",
              "</table>\n",
              "</div>"
            ],
            "text/plain": [
              "    MPG  Cylinders  Displacement  ...  Acceleration  Model Year  Origin\n",
              "0  18.0          8         307.0  ...          12.0          70   India\n",
              "1  15.0          8         350.0  ...          11.5          70   India\n",
              "2  18.0          8         318.0  ...          11.0          70   India\n",
              "3  16.0          8         304.0  ...          12.0          70   India\n",
              "4  17.0          8         302.0  ...          10.5          70   India\n",
              "\n",
              "[5 rows x 8 columns]"
            ]
          },
          "metadata": {
            "tags": []
          },
          "execution_count": 55
        }
      ]
    },
    {
      "cell_type": "markdown",
      "metadata": {
        "id": "diU7Eezl3qxD"
      },
      "source": [
        "Handling Missing Values\n"
      ]
    },
    {
      "cell_type": "code",
      "metadata": {
        "id": "l36l1q1x3u-m",
        "outputId": "8d61e6c0-f525-49aa-fe68-0f8545573ce8",
        "colab": {
          "base_uri": "https://localhost:8080/"
        }
      },
      "source": [
        "df1.info()\n",
        "num_cols=df1.iloc[:,:-1]"
      ],
      "execution_count": 56,
      "outputs": [
        {
          "output_type": "stream",
          "text": [
            "<class 'pandas.core.frame.DataFrame'>\n",
            "RangeIndex: 398 entries, 0 to 397\n",
            "Data columns (total 8 columns):\n",
            " #   Column        Non-Null Count  Dtype  \n",
            "---  ------        --------------  -----  \n",
            " 0   MPG           398 non-null    float64\n",
            " 1   Cylinders     398 non-null    int64  \n",
            " 2   Displacement  398 non-null    float64\n",
            " 3   Horsepower    398 non-null    float64\n",
            " 4   Weight        398 non-null    float64\n",
            " 5   Acceleration  398 non-null    float64\n",
            " 6   Model Year    398 non-null    int64  \n",
            " 7   Origin        398 non-null    object \n",
            "dtypes: float64(5), int64(2), object(1)\n",
            "memory usage: 25.0+ KB\n"
          ],
          "name": "stdout"
        }
      ]
    },
    {
      "cell_type": "code",
      "metadata": {
        "id": "53L4Ljgs4BPy",
        "outputId": "bee1acad-a3e3-4328-b3ff-2cd039d01f8c",
        "colab": {
          "base_uri": "https://localhost:8080/",
          "height": 415
        }
      },
      "source": [
        "num_cols"
      ],
      "execution_count": 57,
      "outputs": [
        {
          "output_type": "execute_result",
          "data": {
            "text/html": [
              "<div>\n",
              "<style scoped>\n",
              "    .dataframe tbody tr th:only-of-type {\n",
              "        vertical-align: middle;\n",
              "    }\n",
              "\n",
              "    .dataframe tbody tr th {\n",
              "        vertical-align: top;\n",
              "    }\n",
              "\n",
              "    .dataframe thead th {\n",
              "        text-align: right;\n",
              "    }\n",
              "</style>\n",
              "<table border=\"1\" class=\"dataframe\">\n",
              "  <thead>\n",
              "    <tr style=\"text-align: right;\">\n",
              "      <th></th>\n",
              "      <th>MPG</th>\n",
              "      <th>Cylinders</th>\n",
              "      <th>Displacement</th>\n",
              "      <th>Horsepower</th>\n",
              "      <th>Weight</th>\n",
              "      <th>Acceleration</th>\n",
              "      <th>Model Year</th>\n",
              "    </tr>\n",
              "  </thead>\n",
              "  <tbody>\n",
              "    <tr>\n",
              "      <th>0</th>\n",
              "      <td>18.0</td>\n",
              "      <td>8</td>\n",
              "      <td>307.0</td>\n",
              "      <td>130.0</td>\n",
              "      <td>3504.0</td>\n",
              "      <td>12.0</td>\n",
              "      <td>70</td>\n",
              "    </tr>\n",
              "    <tr>\n",
              "      <th>1</th>\n",
              "      <td>15.0</td>\n",
              "      <td>8</td>\n",
              "      <td>350.0</td>\n",
              "      <td>165.0</td>\n",
              "      <td>3693.0</td>\n",
              "      <td>11.5</td>\n",
              "      <td>70</td>\n",
              "    </tr>\n",
              "    <tr>\n",
              "      <th>2</th>\n",
              "      <td>18.0</td>\n",
              "      <td>8</td>\n",
              "      <td>318.0</td>\n",
              "      <td>150.0</td>\n",
              "      <td>3436.0</td>\n",
              "      <td>11.0</td>\n",
              "      <td>70</td>\n",
              "    </tr>\n",
              "    <tr>\n",
              "      <th>3</th>\n",
              "      <td>16.0</td>\n",
              "      <td>8</td>\n",
              "      <td>304.0</td>\n",
              "      <td>150.0</td>\n",
              "      <td>3433.0</td>\n",
              "      <td>12.0</td>\n",
              "      <td>70</td>\n",
              "    </tr>\n",
              "    <tr>\n",
              "      <th>4</th>\n",
              "      <td>17.0</td>\n",
              "      <td>8</td>\n",
              "      <td>302.0</td>\n",
              "      <td>140.0</td>\n",
              "      <td>3449.0</td>\n",
              "      <td>10.5</td>\n",
              "      <td>70</td>\n",
              "    </tr>\n",
              "    <tr>\n",
              "      <th>...</th>\n",
              "      <td>...</td>\n",
              "      <td>...</td>\n",
              "      <td>...</td>\n",
              "      <td>...</td>\n",
              "      <td>...</td>\n",
              "      <td>...</td>\n",
              "      <td>...</td>\n",
              "    </tr>\n",
              "    <tr>\n",
              "      <th>393</th>\n",
              "      <td>27.0</td>\n",
              "      <td>4</td>\n",
              "      <td>140.0</td>\n",
              "      <td>86.0</td>\n",
              "      <td>2790.0</td>\n",
              "      <td>15.6</td>\n",
              "      <td>82</td>\n",
              "    </tr>\n",
              "    <tr>\n",
              "      <th>394</th>\n",
              "      <td>44.0</td>\n",
              "      <td>4</td>\n",
              "      <td>97.0</td>\n",
              "      <td>52.0</td>\n",
              "      <td>2130.0</td>\n",
              "      <td>24.6</td>\n",
              "      <td>82</td>\n",
              "    </tr>\n",
              "    <tr>\n",
              "      <th>395</th>\n",
              "      <td>32.0</td>\n",
              "      <td>4</td>\n",
              "      <td>135.0</td>\n",
              "      <td>84.0</td>\n",
              "      <td>2295.0</td>\n",
              "      <td>11.6</td>\n",
              "      <td>82</td>\n",
              "    </tr>\n",
              "    <tr>\n",
              "      <th>396</th>\n",
              "      <td>28.0</td>\n",
              "      <td>4</td>\n",
              "      <td>120.0</td>\n",
              "      <td>79.0</td>\n",
              "      <td>2625.0</td>\n",
              "      <td>18.6</td>\n",
              "      <td>82</td>\n",
              "    </tr>\n",
              "    <tr>\n",
              "      <th>397</th>\n",
              "      <td>31.0</td>\n",
              "      <td>4</td>\n",
              "      <td>119.0</td>\n",
              "      <td>82.0</td>\n",
              "      <td>2720.0</td>\n",
              "      <td>19.4</td>\n",
              "      <td>82</td>\n",
              "    </tr>\n",
              "  </tbody>\n",
              "</table>\n",
              "<p>398 rows × 7 columns</p>\n",
              "</div>"
            ],
            "text/plain": [
              "      MPG  Cylinders  Displacement  ...  Weight  Acceleration  Model Year\n",
              "0    18.0          8         307.0  ...  3504.0          12.0          70\n",
              "1    15.0          8         350.0  ...  3693.0          11.5          70\n",
              "2    18.0          8         318.0  ...  3436.0          11.0          70\n",
              "3    16.0          8         304.0  ...  3433.0          12.0          70\n",
              "4    17.0          8         302.0  ...  3449.0          10.5          70\n",
              "..    ...        ...           ...  ...     ...           ...         ...\n",
              "393  27.0          4         140.0  ...  2790.0          15.6          82\n",
              "394  44.0          4          97.0  ...  2130.0          24.6          82\n",
              "395  32.0          4         135.0  ...  2295.0          11.6          82\n",
              "396  28.0          4         120.0  ...  2625.0          18.6          82\n",
              "397  31.0          4         119.0  ...  2720.0          19.4          82\n",
              "\n",
              "[398 rows x 7 columns]"
            ]
          },
          "metadata": {
            "tags": []
          },
          "execution_count": 57
        }
      ]
    },
    {
      "cell_type": "code",
      "metadata": {
        "id": "JeSVaJ_k4kXm",
        "outputId": "58a2d802-efb9-449d-c53d-f5861044c941",
        "colab": {
          "base_uri": "https://localhost:8080/"
        }
      },
      "source": [
        "from sklearn.impute import SimpleImputer\n",
        "imputer=SimpleImputer(strategy=\"median\")\n",
        "imputer.fit(num_cols)"
      ],
      "execution_count": 58,
      "outputs": [
        {
          "output_type": "execute_result",
          "data": {
            "text/plain": [
              "SimpleImputer(add_indicator=False, copy=True, fill_value=None,\n",
              "              missing_values=nan, strategy='median', verbose=0)"
            ]
          },
          "metadata": {
            "tags": []
          },
          "execution_count": 58
        }
      ]
    },
    {
      "cell_type": "code",
      "metadata": {
        "id": "tbPprKS15H14",
        "outputId": "99463b8a-40a0-441f-9525-e7d0460b5e80",
        "colab": {
          "base_uri": "https://localhost:8080/"
        }
      },
      "source": [
        "imputer.statistics_"
      ],
      "execution_count": 59,
      "outputs": [
        {
          "output_type": "execute_result",
          "data": {
            "text/plain": [
              "array([  23. ,    4. ,  148.5,   93.5, 2803.5,   15.5,   76. ])"
            ]
          },
          "metadata": {
            "tags": []
          },
          "execution_count": 59
        }
      ]
    },
    {
      "cell_type": "code",
      "metadata": {
        "id": "88B95l6p5SEH",
        "outputId": "235e6fa4-4422-4073-d866-f772e346e6a6",
        "colab": {
          "base_uri": "https://localhost:8080/"
        }
      },
      "source": [
        "df1.median().values"
      ],
      "execution_count": 60,
      "outputs": [
        {
          "output_type": "execute_result",
          "data": {
            "text/plain": [
              "array([  23. ,    4. ,  148.5,   93.5, 2803.5,   15.5,   76. ])"
            ]
          },
          "metadata": {
            "tags": []
          },
          "execution_count": 60
        }
      ]
    },
    {
      "cell_type": "code",
      "metadata": {
        "id": "k93F1gbr5elY"
      },
      "source": [
        "impute_x=imputer.transform(num_cols)"
      ],
      "execution_count": 61,
      "outputs": []
    },
    {
      "cell_type": "code",
      "metadata": {
        "id": "dXKU0ksB7XdB",
        "outputId": "e09404e8-0e9e-4a0c-e47d-87df2273a7c2",
        "colab": {
          "base_uri": "https://localhost:8080/"
        }
      },
      "source": [
        "impute_x.ndim"
      ],
      "execution_count": 62,
      "outputs": [
        {
          "output_type": "execute_result",
          "data": {
            "text/plain": [
              "2"
            ]
          },
          "metadata": {
            "tags": []
          },
          "execution_count": 62
        }
      ]
    },
    {
      "cell_type": "code",
      "metadata": {
        "id": "_omkuSvJ566U"
      },
      "source": [
        "impute_df=pd.DataFrame(impute_x,columns=num_cols.columns,index=num_cols.index)"
      ],
      "execution_count": 63,
      "outputs": []
    },
    {
      "cell_type": "code",
      "metadata": {
        "id": "_Mb9iO-H7ous",
        "outputId": "dbbcd8c6-d976-4293-fa16-4b5507c5140a",
        "colab": {
          "base_uri": "https://localhost:8080/"
        }
      },
      "source": [
        "impute_df.info()"
      ],
      "execution_count": 64,
      "outputs": [
        {
          "output_type": "stream",
          "text": [
            "<class 'pandas.core.frame.DataFrame'>\n",
            "RangeIndex: 398 entries, 0 to 397\n",
            "Data columns (total 7 columns):\n",
            " #   Column        Non-Null Count  Dtype  \n",
            "---  ------        --------------  -----  \n",
            " 0   MPG           398 non-null    float64\n",
            " 1   Cylinders     398 non-null    float64\n",
            " 2   Displacement  398 non-null    float64\n",
            " 3   Horsepower    398 non-null    float64\n",
            " 4   Weight        398 non-null    float64\n",
            " 5   Acceleration  398 non-null    float64\n",
            " 6   Model Year    398 non-null    float64\n",
            "dtypes: float64(7)\n",
            "memory usage: 21.9 KB\n"
          ],
          "name": "stdout"
        }
      ]
    },
    {
      "cell_type": "code",
      "metadata": {
        "id": "PYEcUPCx71Ht"
      },
      "source": [
        "impute_df.drop(columns=['MPG'],inplace=True,axis=1)"
      ],
      "execution_count": 65,
      "outputs": []
    },
    {
      "cell_type": "code",
      "metadata": {
        "id": "fpnPbi7d8ckg",
        "outputId": "2d821e5b-550e-4740-e28e-6ff0ae979156",
        "colab": {
          "base_uri": "https://localhost:8080/",
          "height": 415
        }
      },
      "source": [
        "impute_df"
      ],
      "execution_count": 66,
      "outputs": [
        {
          "output_type": "execute_result",
          "data": {
            "text/html": [
              "<div>\n",
              "<style scoped>\n",
              "    .dataframe tbody tr th:only-of-type {\n",
              "        vertical-align: middle;\n",
              "    }\n",
              "\n",
              "    .dataframe tbody tr th {\n",
              "        vertical-align: top;\n",
              "    }\n",
              "\n",
              "    .dataframe thead th {\n",
              "        text-align: right;\n",
              "    }\n",
              "</style>\n",
              "<table border=\"1\" class=\"dataframe\">\n",
              "  <thead>\n",
              "    <tr style=\"text-align: right;\">\n",
              "      <th></th>\n",
              "      <th>Cylinders</th>\n",
              "      <th>Displacement</th>\n",
              "      <th>Horsepower</th>\n",
              "      <th>Weight</th>\n",
              "      <th>Acceleration</th>\n",
              "      <th>Model Year</th>\n",
              "    </tr>\n",
              "  </thead>\n",
              "  <tbody>\n",
              "    <tr>\n",
              "      <th>0</th>\n",
              "      <td>8.0</td>\n",
              "      <td>307.0</td>\n",
              "      <td>130.0</td>\n",
              "      <td>3504.0</td>\n",
              "      <td>12.0</td>\n",
              "      <td>70.0</td>\n",
              "    </tr>\n",
              "    <tr>\n",
              "      <th>1</th>\n",
              "      <td>8.0</td>\n",
              "      <td>350.0</td>\n",
              "      <td>165.0</td>\n",
              "      <td>3693.0</td>\n",
              "      <td>11.5</td>\n",
              "      <td>70.0</td>\n",
              "    </tr>\n",
              "    <tr>\n",
              "      <th>2</th>\n",
              "      <td>8.0</td>\n",
              "      <td>318.0</td>\n",
              "      <td>150.0</td>\n",
              "      <td>3436.0</td>\n",
              "      <td>11.0</td>\n",
              "      <td>70.0</td>\n",
              "    </tr>\n",
              "    <tr>\n",
              "      <th>3</th>\n",
              "      <td>8.0</td>\n",
              "      <td>304.0</td>\n",
              "      <td>150.0</td>\n",
              "      <td>3433.0</td>\n",
              "      <td>12.0</td>\n",
              "      <td>70.0</td>\n",
              "    </tr>\n",
              "    <tr>\n",
              "      <th>4</th>\n",
              "      <td>8.0</td>\n",
              "      <td>302.0</td>\n",
              "      <td>140.0</td>\n",
              "      <td>3449.0</td>\n",
              "      <td>10.5</td>\n",
              "      <td>70.0</td>\n",
              "    </tr>\n",
              "    <tr>\n",
              "      <th>...</th>\n",
              "      <td>...</td>\n",
              "      <td>...</td>\n",
              "      <td>...</td>\n",
              "      <td>...</td>\n",
              "      <td>...</td>\n",
              "      <td>...</td>\n",
              "    </tr>\n",
              "    <tr>\n",
              "      <th>393</th>\n",
              "      <td>4.0</td>\n",
              "      <td>140.0</td>\n",
              "      <td>86.0</td>\n",
              "      <td>2790.0</td>\n",
              "      <td>15.6</td>\n",
              "      <td>82.0</td>\n",
              "    </tr>\n",
              "    <tr>\n",
              "      <th>394</th>\n",
              "      <td>4.0</td>\n",
              "      <td>97.0</td>\n",
              "      <td>52.0</td>\n",
              "      <td>2130.0</td>\n",
              "      <td>24.6</td>\n",
              "      <td>82.0</td>\n",
              "    </tr>\n",
              "    <tr>\n",
              "      <th>395</th>\n",
              "      <td>4.0</td>\n",
              "      <td>135.0</td>\n",
              "      <td>84.0</td>\n",
              "      <td>2295.0</td>\n",
              "      <td>11.6</td>\n",
              "      <td>82.0</td>\n",
              "    </tr>\n",
              "    <tr>\n",
              "      <th>396</th>\n",
              "      <td>4.0</td>\n",
              "      <td>120.0</td>\n",
              "      <td>79.0</td>\n",
              "      <td>2625.0</td>\n",
              "      <td>18.6</td>\n",
              "      <td>82.0</td>\n",
              "    </tr>\n",
              "    <tr>\n",
              "      <th>397</th>\n",
              "      <td>4.0</td>\n",
              "      <td>119.0</td>\n",
              "      <td>82.0</td>\n",
              "      <td>2720.0</td>\n",
              "      <td>19.4</td>\n",
              "      <td>82.0</td>\n",
              "    </tr>\n",
              "  </tbody>\n",
              "</table>\n",
              "<p>398 rows × 6 columns</p>\n",
              "</div>"
            ],
            "text/plain": [
              "     Cylinders  Displacement  Horsepower  Weight  Acceleration  Model Year\n",
              "0          8.0         307.0       130.0  3504.0          12.0        70.0\n",
              "1          8.0         350.0       165.0  3693.0          11.5        70.0\n",
              "2          8.0         318.0       150.0  3436.0          11.0        70.0\n",
              "3          8.0         304.0       150.0  3433.0          12.0        70.0\n",
              "4          8.0         302.0       140.0  3449.0          10.5        70.0\n",
              "..         ...           ...         ...     ...           ...         ...\n",
              "393        4.0         140.0        86.0  2790.0          15.6        82.0\n",
              "394        4.0          97.0        52.0  2130.0          24.6        82.0\n",
              "395        4.0         135.0        84.0  2295.0          11.6        82.0\n",
              "396        4.0         120.0        79.0  2625.0          18.6        82.0\n",
              "397        4.0         119.0        82.0  2720.0          19.4        82.0\n",
              "\n",
              "[398 rows x 6 columns]"
            ]
          },
          "metadata": {
            "tags": []
          },
          "execution_count": 66
        }
      ]
    },
    {
      "cell_type": "code",
      "metadata": {
        "id": "NeQ7bGu7CfDv",
        "outputId": "91d2cfce-7cb3-4bb3-af9a-372b5b649ca2",
        "colab": {
          "base_uri": "https://localhost:8080/"
        }
      },
      "source": [
        "impute_df.iloc[:,4]/impute_df.iloc[:,0]"
      ],
      "execution_count": 67,
      "outputs": [
        {
          "output_type": "execute_result",
          "data": {
            "text/plain": [
              "0      1.5000\n",
              "1      1.4375\n",
              "2      1.3750\n",
              "3      1.5000\n",
              "4      1.3125\n",
              "        ...  \n",
              "393    3.9000\n",
              "394    6.1500\n",
              "395    2.9000\n",
              "396    4.6500\n",
              "397    4.8500\n",
              "Length: 398, dtype: float64"
            ]
          },
          "metadata": {
            "tags": []
          },
          "execution_count": 67
        }
      ]
    },
    {
      "cell_type": "markdown",
      "metadata": {
        "id": "oYGrxYfwAnYb"
      },
      "source": [
        "Create a Custom class to create a new features using baseestimator and Transformermixin\n"
      ]
    },
    {
      "cell_type": "code",
      "metadata": {
        "id": "gncuY-VWAmM1",
        "outputId": "dc16e27e-4e92-4edd-e1f7-10d50a148734",
        "colab": {
          "base_uri": "https://localhost:8080/"
        }
      },
      "source": [
        "from sklearn.base import BaseEstimator, TransformerMixin\n",
        "\n",
        "acc_ix,hsp_ix,cyln_ix=4,2,0\n",
        "\n",
        "class addingattributes(BaseEstimator,TransformerMixin):\n",
        "  def __init__(self,acc_power_calc=True):\n",
        "    self.acc_power_calc=acc_power_calc\n",
        "  def fit(self,Xdf,y=None):\n",
        "    return self\n",
        "  def transform(self,Xdf):\n",
        "    acc_on_cyln=Xdf[:,acc_ix]/Xdf[:,cyln_ix]\n",
        "    if self.acc_power_calc:\n",
        "      acc_on_hsp=Xdf[:,acc_ix]/Xdf[:,hsp_ix]\n",
        "      return np.c_[Xdf,acc_on_cyln,acc_on_hsp]\n",
        "    print('hi')\n",
        "    return np.c_[Xdf,acc_on_cyln]\n",
        "\n",
        "coladdtransformer=addingattributes(acc_power_calc=True)\n",
        "data_df_addition=coladdtransformer.transform(impute_df.values)\n",
        "data_df_addition[0]\n"
      ],
      "execution_count": 68,
      "outputs": [
        {
          "output_type": "execute_result",
          "data": {
            "text/plain": [
              "array([8.00000000e+00, 3.07000000e+02, 1.30000000e+02, 3.50400000e+03,\n",
              "       1.20000000e+01, 7.00000000e+01, 1.50000000e+00, 9.23076923e-02])"
            ]
          },
          "metadata": {
            "tags": []
          },
          "execution_count": 68
        }
      ]
    },
    {
      "cell_type": "markdown",
      "metadata": {
        "id": "JKENCmKpRd8S"
      },
      "source": [
        "### Creating Pipline Tasks"
      ]
    },
    {
      "cell_type": "code",
      "metadata": {
        "id": "0-EPM2YnR5Pj"
      },
      "source": [
        "data_lables=data['MPG']\n",
        "data=data.drop(columns=['MPG'],axis=1)"
      ],
      "execution_count": 69,
      "outputs": []
    },
    {
      "cell_type": "code",
      "metadata": {
        "id": "xAs1tTpXS0Uw",
        "outputId": "e2df662a-5827-4cd3-ac91-db3802151b0f",
        "colab": {
          "base_uri": "https://localhost:8080/"
        }
      },
      "source": [
        "data.info()"
      ],
      "execution_count": 70,
      "outputs": [
        {
          "output_type": "stream",
          "text": [
            "<class 'pandas.core.frame.DataFrame'>\n",
            "RangeIndex: 398 entries, 0 to 397\n",
            "Data columns (total 7 columns):\n",
            " #   Column        Non-Null Count  Dtype  \n",
            "---  ------        --------------  -----  \n",
            " 0   Cylinders     398 non-null    int64  \n",
            " 1   Displacement  398 non-null    float64\n",
            " 2   Horsepower    392 non-null    float64\n",
            " 3   Weight        398 non-null    float64\n",
            " 4   Acceleration  398 non-null    float64\n",
            " 5   Model Year    398 non-null    int64  \n",
            " 6   Origin        398 non-null    int64  \n",
            "dtypes: float64(4), int64(3)\n",
            "memory usage: 21.9 KB\n"
          ],
          "name": "stdout"
        }
      ]
    },
    {
      "cell_type": "code",
      "metadata": {
        "id": "wAPtkFSdSscW"
      },
      "source": [
        "from sklearn.pipeline import Pipeline\n",
        "from sklearn.preprocessing import StandardScaler\n",
        "\n",
        "num_types=['float64','int64']\n",
        "\n",
        "num_data=data.select_dtypes(include=num_types)\n",
        "num_pipeline=Pipeline([('imputer',SimpleImputer(strategy=\"median\")),\n",
        "                       ('attr_Addition',addingattributes()),\n",
        "                       ('Standardscaling',StandardScaler())])"
      ],
      "execution_count": 71,
      "outputs": []
    },
    {
      "cell_type": "code",
      "metadata": {
        "id": "dTOgernEVqHY"
      },
      "source": [
        "num_data.drop(columns=['Origin'],inplace=True)"
      ],
      "execution_count": 72,
      "outputs": []
    },
    {
      "cell_type": "code",
      "metadata": {
        "id": "tSanyKDVVyxT",
        "outputId": "4efc6478-d755-4e4f-c457-e8a85fb1d1bb",
        "colab": {
          "base_uri": "https://localhost:8080/"
        }
      },
      "source": [
        "num_process_data=num_pipeline.fit_transform(num_data)\n",
        "num_process_data[0]"
      ],
      "execution_count": 73,
      "outputs": [
        {
          "output_type": "execute_result",
          "data": {
            "text/plain": [
              "array([ 1.49819126,  1.0906037 ,  0.67311762,  0.63086987, -1.29549834,\n",
              "       -1.62742629, -1.42777381, -1.02693601])"
            ]
          },
          "metadata": {
            "tags": []
          },
          "execution_count": 73
        }
      ]
    },
    {
      "cell_type": "markdown",
      "metadata": {
        "id": "BMSYZen-WDt3"
      },
      "source": [
        "Transforming categorical columns\n"
      ]
    },
    {
      "cell_type": "code",
      "metadata": {
        "id": "knknNYsSWIfa",
        "outputId": "2431d3f2-f5cb-49b6-af09-867607b5fde2",
        "colab": {
          "base_uri": "https://localhost:8080/"
        }
      },
      "source": [
        "from sklearn.compose import ColumnTransformer\n",
        "num_columns=list(num_data)\n",
        "cat_columns=[\"Origin\"]\n",
        "full_pipline=ColumnTransformer([('numcols',num_pipeline,num_columns),\n",
        "                            ('cat cols',OneHotEncoder(),cat_columns)])\n",
        "prepared_data=full_pipline.fit_transform(data)\n",
        "prepared_data[0]"
      ],
      "execution_count": 84,
      "outputs": [
        {
          "output_type": "execute_result",
          "data": {
            "text/plain": [
              "array([ 1.49819126,  1.0906037 ,  0.67311762,  0.63086987, -1.29549834,\n",
              "       -1.62742629, -1.42777381, -1.02693601,  1.        ,  0.        ,\n",
              "        0.        ])"
            ]
          },
          "metadata": {
            "tags": []
          },
          "execution_count": 84
        }
      ]
    },
    {
      "cell_type": "markdown",
      "metadata": {
        "id": "vRZK5KLnZSDV"
      },
      "source": [
        "Selecting Model and Training Models\n",
        "1. Linear Regression\n",
        "2. Decision Tree\n",
        "3. Random Forest\n",
        "4. SVM Regressor"
      ]
    },
    {
      "cell_type": "code",
      "metadata": {
        "id": "nhBKN8A3Y4KA",
        "outputId": "1da66e5a-d8d9-4c25-fbd7-3ac040e99370",
        "colab": {
          "base_uri": "https://localhost:8080/"
        }
      },
      "source": [
        "from sklearn.linear_model import LinearRegression\n",
        "\n",
        "lin_reg=LinearRegression()\n",
        "lin_reg.fit(prepared_data,data_lables)"
      ],
      "execution_count": 90,
      "outputs": [
        {
          "output_type": "execute_result",
          "data": {
            "text/plain": [
              "LinearRegression(copy_X=True, fit_intercept=True, n_jobs=None, normalize=False)"
            ]
          },
          "metadata": {
            "tags": []
          },
          "execution_count": 90
        }
      ]
    },
    {
      "cell_type": "code",
      "metadata": {
        "id": "NCTYg7W3Z0Xk"
      },
      "source": [
        "#testing with sample\n",
        "sample_data=data.iloc[:5]\n",
        "sample_data_lables=data_lables.iloc[:5]\n",
        "\n",
        "sample_data_prepared=full_pipline.transform(sample_data)"
      ],
      "execution_count": 85,
      "outputs": []
    },
    {
      "cell_type": "code",
      "metadata": {
        "id": "RsqsYI0scsh8",
        "outputId": "8c229f3f-1c6b-4fc0-d0de-2f23c3e5b2f3",
        "colab": {
          "base_uri": "https://localhost:8080/"
        }
      },
      "source": [
        "sample_data_prepared[0]"
      ],
      "execution_count": 87,
      "outputs": [
        {
          "output_type": "execute_result",
          "data": {
            "text/plain": [
              "array([ 1.49819126,  1.0906037 ,  0.67311762,  0.63086987, -1.29549834,\n",
              "       -1.62742629, -1.42777381, -1.02693601,  1.        ,  0.        ,\n",
              "        0.        ])"
            ]
          },
          "metadata": {
            "tags": []
          },
          "execution_count": 87
        }
      ]
    },
    {
      "cell_type": "code",
      "metadata": {
        "id": "96iOARC-biq8",
        "outputId": "affb34fe-5d4c-4990-c012-8b8a3cb09518",
        "colab": {
          "base_uri": "https://localhost:8080/"
        }
      },
      "source": [
        "print(sample_data_prepared[0])\n",
        "print(prepared_data[0])"
      ],
      "execution_count": 88,
      "outputs": [
        {
          "output_type": "stream",
          "text": [
            "[ 1.49819126  1.0906037   0.67311762  0.63086987 -1.29549834 -1.62742629\n",
            " -1.42777381 -1.02693601  1.          0.          0.        ]\n",
            "[ 1.49819126  1.0906037   0.67311762  0.63086987 -1.29549834 -1.62742629\n",
            " -1.42777381 -1.02693601  1.          0.          0.        ]\n"
          ],
          "name": "stdout"
        }
      ]
    },
    {
      "cell_type": "code",
      "metadata": {
        "id": "pZhhf3TebDRB",
        "outputId": "df5287c1-6d26-474a-e18e-673afc97bd11",
        "colab": {
          "base_uri": "https://localhost:8080/"
        }
      },
      "source": [
        "print(\"sample prediction using linear regression\",lin_reg.predict(sample_data_prepared))"
      ],
      "execution_count": 91,
      "outputs": [
        {
          "output_type": "stream",
          "text": [
            "sample prediction using linear regression [14.79880021 13.98868037 15.38270144 14.91873576 15.6309951 ]\n"
          ],
          "name": "stdout"
        }
      ]
    },
    {
      "cell_type": "code",
      "metadata": {
        "id": "k5qxvFCf01dT"
      },
      "source": [
        "lin_predict=lin_reg.predict(prepared_data)"
      ],
      "execution_count": 92,
      "outputs": []
    },
    {
      "cell_type": "code",
      "metadata": {
        "id": "gmcyPQHy1MO0",
        "outputId": "00dfd68e-f286-466e-ac99-72f6d6875a29",
        "colab": {
          "base_uri": "https://localhost:8080/"
        }
      },
      "source": [
        "from sklearn.metrics import mean_squared_error\n",
        "\n",
        "lin_mse=mean_squared_error(lin_predict,data_lables)\n",
        "print('RMSE of Linerar Regression',np.sqrt(lin_mse))\n"
      ],
      "execution_count": 94,
      "outputs": [
        {
          "output_type": "stream",
          "text": [
            "RMSE of Linerar Regression 2.9976662079915086\n"
          ],
          "name": "stdout"
        }
      ]
    },
    {
      "cell_type": "code",
      "metadata": {
        "id": "dPybyFr-2zsB"
      },
      "source": [
        "from sklearn.tree import DecisionTreeRegressor"
      ],
      "execution_count": 95,
      "outputs": []
    },
    {
      "cell_type": "code",
      "metadata": {
        "id": "j7ijl91s26yN",
        "outputId": "30e94575-906a-4ef7-b5aa-2f66392b1d6e",
        "colab": {
          "base_uri": "https://localhost:8080/"
        }
      },
      "source": [
        "dt_mdl=DecisionTreeRegressor()\n",
        "dt_mdl.fit(prepared_data,data_lables)"
      ],
      "execution_count": 97,
      "outputs": [
        {
          "output_type": "execute_result",
          "data": {
            "text/plain": [
              "DecisionTreeRegressor(ccp_alpha=0.0, criterion='mse', max_depth=None,\n",
              "                      max_features=None, max_leaf_nodes=None,\n",
              "                      min_impurity_decrease=0.0, min_impurity_split=None,\n",
              "                      min_samples_leaf=1, min_samples_split=2,\n",
              "                      min_weight_fraction_leaf=0.0, presort='deprecated',\n",
              "                      random_state=None, splitter='best')"
            ]
          },
          "metadata": {
            "tags": []
          },
          "execution_count": 97
        }
      ]
    },
    {
      "cell_type": "code",
      "metadata": {
        "id": "7kHFubTC3Jlo",
        "outputId": "e4e0fdb0-ddf2-46a2-fa35-94df7d15135f",
        "colab": {
          "base_uri": "https://localhost:8080/"
        }
      },
      "source": [
        "dt_prediction=dt_mdl.predict(prepared_data)\n",
        "dt_mse=mean_squared_error(dt_prediction,data_lables)\n",
        "print('RMSE of DT model',dt_mse)"
      ],
      "execution_count": 98,
      "outputs": [
        {
          "output_type": "stream",
          "text": [
            "RMSE of DT model 0.0\n"
          ],
          "name": "stdout"
        }
      ]
    },
    {
      "cell_type": "code",
      "metadata": {
        "id": "AV80s_-H5O8h"
      },
      "source": [
        "from sklearn.metrics import SCORERS\n",
        "#sorted(sklearn.metrics.SCORERS.keys())"
      ],
      "execution_count": 107,
      "outputs": []
    },
    {
      "cell_type": "code",
      "metadata": {
        "id": "oDzB7L6-3bnM",
        "outputId": "ec1075bb-3edf-412a-aa28-333f11a7a8a0",
        "colab": {
          "base_uri": "https://localhost:8080/"
        }
      },
      "source": [
        "from sklearn.model_selection import cross_val_score\n",
        "\n",
        "dt_kfold_scores=cross_val_score(dt_mdl,prepared_data,data_lables,scoring='neg_mean_squared_error',cv=10 )\n",
        "print(np.sqrt(-dt_kfold_scores).mean())\n"
      ],
      "execution_count": 117,
      "outputs": [
        {
          "output_type": "stream",
          "text": [
            "3.85785834312097\n"
          ],
          "name": "stdout"
        }
      ]
    }
  ]
}